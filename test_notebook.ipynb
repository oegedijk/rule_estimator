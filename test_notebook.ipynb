{
 "cells": [
  {
   "cell_type": "code",
   "execution_count": 1,
   "id": "37a98f6e",
   "metadata": {
    "ExecuteTime": {
     "end_time": "2021-05-21T08:32:59.453219Z",
     "start_time": "2021-05-21T08:32:59.430362Z"
    }
   },
   "outputs": [],
   "source": [
    "%load_ext autoreload\n",
    "\n",
    "%autoreload 2"
   ]
  },
  {
   "cell_type": "markdown",
   "id": "215adf64",
   "metadata": {},
   "source": [
    "# Imports"
   ]
  },
  {
   "cell_type": "code",
   "execution_count": 2,
   "id": "036959bc",
   "metadata": {
    "ExecuteTime": {
     "end_time": "2021-05-21T08:33:00.311049Z",
     "start_time": "2021-05-21T08:32:59.733758Z"
    }
   },
   "outputs": [],
   "source": [
    "from sklearn.datasets import load_iris\n",
    "from sklearn.tree import DecisionTreeClassifier\n",
    "from sklearn.metrics import classification_report"
   ]
  },
  {
   "cell_type": "code",
   "execution_count": 3,
   "id": "20988958",
   "metadata": {
    "ExecuteTime": {
     "end_time": "2021-05-21T08:33:00.555414Z",
     "start_time": "2021-05-21T08:33:00.314145Z"
    }
   },
   "outputs": [],
   "source": [
    "from rule_estimator import *"
   ]
  },
  {
   "cell_type": "code",
   "execution_count": 4,
   "id": "f938dc44",
   "metadata": {
    "ExecuteTime": {
     "end_time": "2021-05-21T08:33:01.015752Z",
     "start_time": "2021-05-21T08:33:00.957101Z"
    }
   },
   "outputs": [
    {
     "data": {
      "text/html": [
       "<div>\n",
       "<style scoped>\n",
       "    .dataframe tbody tr th:only-of-type {\n",
       "        vertical-align: middle;\n",
       "    }\n",
       "\n",
       "    .dataframe tbody tr th {\n",
       "        vertical-align: top;\n",
       "    }\n",
       "\n",
       "    .dataframe thead th {\n",
       "        text-align: right;\n",
       "    }\n",
       "</style>\n",
       "<table border=\"1\" class=\"dataframe\">\n",
       "  <thead>\n",
       "    <tr style=\"text-align: right;\">\n",
       "      <th></th>\n",
       "      <th>sepal length (cm)</th>\n",
       "      <th>sepal width (cm)</th>\n",
       "      <th>petal length (cm)</th>\n",
       "      <th>petal width (cm)</th>\n",
       "    </tr>\n",
       "  </thead>\n",
       "  <tbody>\n",
       "    <tr>\n",
       "      <th>0</th>\n",
       "      <td>5.1</td>\n",
       "      <td>3.5</td>\n",
       "      <td>1.4</td>\n",
       "      <td>0.2</td>\n",
       "    </tr>\n",
       "    <tr>\n",
       "      <th>1</th>\n",
       "      <td>4.9</td>\n",
       "      <td>3.0</td>\n",
       "      <td>1.4</td>\n",
       "      <td>0.2</td>\n",
       "    </tr>\n",
       "    <tr>\n",
       "      <th>2</th>\n",
       "      <td>4.7</td>\n",
       "      <td>3.2</td>\n",
       "      <td>1.3</td>\n",
       "      <td>0.2</td>\n",
       "    </tr>\n",
       "    <tr>\n",
       "      <th>3</th>\n",
       "      <td>4.6</td>\n",
       "      <td>3.1</td>\n",
       "      <td>1.5</td>\n",
       "      <td>0.2</td>\n",
       "    </tr>\n",
       "    <tr>\n",
       "      <th>4</th>\n",
       "      <td>5.0</td>\n",
       "      <td>3.6</td>\n",
       "      <td>1.4</td>\n",
       "      <td>0.2</td>\n",
       "    </tr>\n",
       "  </tbody>\n",
       "</table>\n",
       "</div>"
      ],
      "text/plain": [
       "   sepal length (cm)  sepal width (cm)  petal length (cm)  petal width (cm)\n",
       "0                5.1               3.5                1.4               0.2\n",
       "1                4.9               3.0                1.4               0.2\n",
       "2                4.7               3.2                1.3               0.2\n",
       "3                4.6               3.1                1.5               0.2\n",
       "4                5.0               3.6                1.4               0.2"
      ]
     },
     "execution_count": 4,
     "metadata": {},
     "output_type": "execute_result"
    }
   ],
   "source": [
    "X, y = load_iris(return_X_y=True, as_frame=True)\n",
    "X.head()"
   ]
  },
  {
   "cell_type": "code",
   "execution_count": 5,
   "id": "0b6600dc",
   "metadata": {
    "ExecuteTime": {
     "end_time": "2021-05-21T08:33:01.417322Z",
     "start_time": "2021-05-21T08:33:01.388242Z"
    }
   },
   "outputs": [
    {
     "data": {
      "text/plain": [
       "array(['setosa', 'versicolor', 'virginica'], dtype='<U10')"
      ]
     },
     "execution_count": 5,
     "metadata": {},
     "output_type": "execute_result"
    }
   ],
   "source": [
    "load_iris().target_names"
   ]
  },
  {
   "cell_type": "markdown",
   "id": "f2155410",
   "metadata": {},
   "source": [
    "# Instantiate RuleClassifier"
   ]
  },
  {
   "cell_type": "code",
   "execution_count": 6,
   "id": "012de90c",
   "metadata": {
    "ExecuteTime": {
     "end_time": "2021-05-21T08:33:02.311786Z",
     "start_time": "2021-05-21T08:33:02.281565Z"
    }
   },
   "outputs": [],
   "source": [
    "model = RuleClassifier(\n",
    "    LesserThanNode(\"petal length (cm)\", 1.9, \n",
    "               if_true=DummyRule(0), \n",
    "               if_false=CaseWhen([\n",
    "                    LesserThan(\"petal length (cm)\", 4.5, 1),\n",
    "                    GreaterThan(\"petal length (cm)\", 5.1, 2),\n",
    "                    LesserThan(\"petal width (cm)\", 1.4, 1),\n",
    "                    GreaterThan(\"petal width (cm)\", 1.8, 2),\n",
    "                ], default=1),\n",
    "    ), \n",
    "    default=2\n",
    ")"
   ]
  },
  {
   "cell_type": "code",
   "execution_count": 20,
   "id": "adb9b729",
   "metadata": {
    "ExecuteTime": {
     "end_time": "2021-05-21T08:51:05.412567Z",
     "start_time": "2021-05-21T08:51:05.383451Z"
    }
   },
   "outputs": [],
   "source": [
    "model = RuleClassifier(\n",
    "    LesserThanNode(\"petal length (cm)\", 1.9, # BinaryDecisionNode\n",
    "        if_true=DummyRule(default=0), # DummyRule: always predict 0\n",
    "        if_false=CaseWhen([\n",
    "            # Go through these rules and if one applies, assign the prediction\n",
    "            LesserThan(\"petal length (cm)\", 4.5, prediction=1),\n",
    "            GreaterThan(\"petal length (cm)\", 5.1, prediction=2),\n",
    "            LesserThan(\"petal width (cm)\", 1.4, prediction=1),\n",
    "            GreaterThan(\"petal width (cm)\", 1.8, prediction=2),\n",
    "        ], \n",
    "        default=1 # if no rule applies, assign prediction=1\n",
    "        ),\n",
    "    ), \n",
    "    default=2 # If no rule applied, assign prediction=2\n",
    ")"
   ]
  },
  {
   "cell_type": "code",
   "execution_count": 21,
   "id": "f2c86c9a",
   "metadata": {
    "ExecuteTime": {
     "end_time": "2021-05-21T08:51:06.295840Z",
     "start_time": "2021-05-21T08:51:06.265068Z"
    }
   },
   "outputs": [
    {
     "name": "stdout",
     "output_type": "stream",
     "text": [
      "              precision    recall  f1-score   support\n",
      "\n",
      "           0       1.00      0.96      0.98        50\n",
      "           1       0.83      1.00      0.91        50\n",
      "           2       1.00      0.84      0.91        50\n",
      "\n",
      "    accuracy                           0.93       150\n",
      "   macro avg       0.94      0.93      0.93       150\n",
      "weighted avg       0.94      0.93      0.93       150\n",
      "\n"
     ]
    }
   ],
   "source": [
    "print(classification_report(y, model.predict(X)))"
   ]
  },
  {
   "cell_type": "code",
   "execution_count": 22,
   "id": "55c19f5d",
   "metadata": {
    "ExecuteTime": {
     "end_time": "2021-05-21T08:51:12.046229Z",
     "start_time": "2021-05-21T08:51:12.018258Z"
    }
   },
   "outputs": [
    {
     "name": "stdout",
     "output_type": "stream",
     "text": [
      "RulesClassifier\n",
      "   BinaryDecisionNode petal length (cm) < 1.9\n",
      "     DummyRule: Always predict 0\n",
      "      Default: 0 \n",
      "     CaseWhen\n",
      "        If petal length (cm) < 4.5 then predict 1\n",
      "        If petal length (cm) > 5.1 then predict 2\n",
      "        If petal width (cm) < 1.4 then predict 1\n",
      "        If petal width (cm) > 1.8 then predict 2\n",
      "      Default: 1 \n",
      " Default: 2 \n",
      "\n"
     ]
    }
   ],
   "source": [
    "print(model.describe())"
   ]
  },
  {
   "cell_type": "markdown",
   "id": "49fcc00d",
   "metadata": {},
   "source": [
    "# Storing model to `.yaml`"
   ]
  },
  {
   "cell_type": "code",
   "execution_count": 23,
   "id": "97936795",
   "metadata": {
    "ExecuteTime": {
     "end_time": "2021-05-21T08:51:52.049578Z",
     "start_time": "2021-05-21T08:51:52.016228Z"
    }
   },
   "outputs": [
    {
     "name": "stdout",
     "output_type": "stream",
     "text": [
      "# RulesClassifier\n",
      "#    BinaryDecisionNode petal length (cm) < 1.9\n",
      "#      DummyRule: Always predict 0\n",
      "#       Default: 0 \n",
      "#      CaseWhen\n",
      "#         If petal length (cm) < 4.5 then predict 1\n",
      "#         If petal length (cm) > 5.1 then predict 2\n",
      "#         If petal width (cm) < 1.4 then predict 1\n",
      "#         If petal width (cm) > 1.8 then predict 2\n",
      "#       Default: 1 \n",
      "#  Default: 2 \n",
      "__businessrule__:\n",
      "  module: rule_estimator.core\n",
      "  name: RuleClassifier\n",
      "  description: RulesClassifier\n",
      "  params:\n",
      "    rules:\n",
      "      __businessrule__:\n",
      "        module: rule_estimator.business_rules\n",
      "        name: LesserThanNode\n",
      "        description: BinaryDecisionNode petal length (cm) < 1.9\n",
      "        params:\n",
      "          col: petal length (cm)\n",
      "          cutoff: 1.9\n",
      "          if_true:\n",
      "            __businessrule__:\n",
      "              module: rule_estimator.business_rules\n",
      "              name: DummyRule\n",
      "              description: 'DummyRule: Always predict 0'\n",
      "              params:\n",
      "                default: 0\n",
      "          if_false:\n",
      "            __businessrule__:\n",
      "              module: rule_estimator.business_rules\n",
      "              name: CaseWhen\n",
      "              description: CaseWhen\n",
      "              params:\n",
      "                rules:\n",
      "                - __businessrule__:\n",
      "                    module: rule_estimator.business_rules\n",
      "                    name: LesserThan\n",
      "                    description: If petal length (cm) < 4.5 then predict 1\n",
      "                    params:\n",
      "                      col: petal length (cm)\n",
      "                      cutoff: 4.5\n",
      "                      prediction: 1\n",
      "                      default: null\n",
      "                - __businessrule__:\n",
      "                    module: rule_estimator.business_rules\n",
      "                    name: GreaterThan\n",
      "                    description: If petal length (cm) > 5.1 then predict 2\n",
      "                    params:\n",
      "                      col: petal length (cm)\n",
      "                      cutoff: 5.1\n",
      "                      prediction: 2\n",
      "                      default: null\n",
      "                - __businessrule__:\n",
      "                    module: rule_estimator.business_rules\n",
      "                    name: LesserThan\n",
      "                    description: If petal width (cm) < 1.4 then predict 1\n",
      "                    params:\n",
      "                      col: petal width (cm)\n",
      "                      cutoff: 1.4\n",
      "                      prediction: 1\n",
      "                      default: null\n",
      "                - __businessrule__:\n",
      "                    module: rule_estimator.business_rules\n",
      "                    name: GreaterThan\n",
      "                    description: If petal width (cm) > 1.8 then predict 2\n",
      "                    params:\n",
      "                      col: petal width (cm)\n",
      "                      cutoff: 1.8\n",
      "                      prediction: 2\n",
      "                      default: null\n",
      "                default: 1\n",
      "    default: 2\n",
      "    final_estimator: null\n",
      "    fit_remaining_only: true\n",
      "\n"
     ]
    }
   ],
   "source": [
    "print(model.to_yaml())"
   ]
  },
  {
   "cell_type": "code",
   "execution_count": 13,
   "id": "26a9c7be",
   "metadata": {
    "ExecuteTime": {
     "end_time": "2021-05-21T08:35:20.446621Z",
     "start_time": "2021-05-21T08:35:20.399719Z"
    }
   },
   "outputs": [],
   "source": [
    "model.to_yaml(\"iris_rules.yaml\")"
   ]
  },
  {
   "cell_type": "code",
   "execution_count": 14,
   "id": "09f3fede",
   "metadata": {
    "ExecuteTime": {
     "end_time": "2021-05-21T08:35:20.972203Z",
     "start_time": "2021-05-21T08:35:20.929781Z"
    }
   },
   "outputs": [],
   "source": [
    "loaded_model = RuleClassifier.from_yaml(\"iris_rules.yaml\")"
   ]
  },
  {
   "cell_type": "code",
   "execution_count": 15,
   "id": "ed157fa7",
   "metadata": {
    "ExecuteTime": {
     "end_time": "2021-05-21T08:35:21.861524Z",
     "start_time": "2021-05-21T08:35:21.826233Z"
    }
   },
   "outputs": [
    {
     "data": {
      "text/plain": [
       "array([0., 0., 0., 0., 0., 0., 0., 0., 0., 0., 0., 0., 0., 0., 0., 0., 0.,\n",
       "       0., 0., 0., 0., 0., 0., 0., 1., 0., 0., 0., 0., 0., 0., 0., 0., 0.,\n",
       "       0., 0., 0., 0., 0., 0., 0., 0., 0., 0., 1., 0., 0., 0., 0., 0., 1.,\n",
       "       1., 1., 1., 1., 1., 1., 1., 1., 1., 1., 1., 1., 1., 1., 1., 1., 1.,\n",
       "       1., 1., 1., 1., 1., 1., 1., 1., 1., 1., 1., 1., 1., 1., 1., 1., 1.,\n",
       "       1., 1., 1., 1., 1., 1., 1., 1., 1., 1., 1., 1., 1., 1., 1., 2., 2.,\n",
       "       2., 2., 2., 2., 1., 2., 2., 2., 2., 2., 2., 2., 2., 2., 2., 2., 2.,\n",
       "       1., 2., 2., 2., 1., 2., 2., 1., 1., 2., 2., 2., 2., 2., 1., 2., 2.,\n",
       "       2., 2., 1., 2., 2., 2., 2., 2., 2., 2., 2., 2., 2., 1.])"
      ]
     },
     "execution_count": 15,
     "metadata": {},
     "output_type": "execute_result"
    }
   ],
   "source": [
    "loaded_model.predict(X)"
   ]
  },
  {
   "cell_type": "markdown",
   "id": "a0249687",
   "metadata": {},
   "source": [
    "# Including a `final_estimator`"
   ]
  },
  {
   "cell_type": "code",
   "execution_count": 24,
   "id": "18885260",
   "metadata": {
    "ExecuteTime": {
     "end_time": "2021-05-21T08:57:45.207474Z",
     "start_time": "2021-05-21T08:57:45.179634Z"
    }
   },
   "outputs": [],
   "source": [
    "rules_plus_final_estimator = RuleClassifier(\n",
    "    LesserThanNode(\"petal length (cm)\", 1.9, \n",
    "               if_true=DummyRule(0), \n",
    "               if_false=CaseWhen([\n",
    "                    LesserThan(\"petal length (cm)\", 4.5, 1),\n",
    "                    GreaterThan(\"petal length (cm)\", 5.1, 2),\n",
    "                    LesserThan(\"petal width (cm)\", 1.4, 1),\n",
    "                    GreaterThan(\"petal width (cm)\", 1.8, 2),\n",
    "                ]),\n",
    "    ), \n",
    "    final_estimator=DecisionTreeClassifier(),\n",
    "    fit_remaining_only=False\n",
    ")"
   ]
  },
  {
   "cell_type": "code",
   "execution_count": 25,
   "id": "b89ee56e",
   "metadata": {
    "ExecuteTime": {
     "end_time": "2021-05-21T08:57:45.854596Z",
     "start_time": "2021-05-21T08:57:45.813468Z"
    }
   },
   "outputs": [
    {
     "name": "stdout",
     "output_type": "stream",
     "text": [
      "Fitting final_estimator...\n",
      "              precision    recall  f1-score   support\n",
      "\n",
      "           0       1.00      0.96      0.98        50\n",
      "           1       0.96      1.00      0.98        50\n",
      "           2       1.00      1.00      1.00        50\n",
      "\n",
      "    accuracy                           0.99       150\n",
      "   macro avg       0.99      0.99      0.99       150\n",
      "weighted avg       0.99      0.99      0.99       150\n",
      "\n"
     ]
    }
   ],
   "source": [
    "rules_plus_final_estimator.fit(X, y)\n",
    "print(classification_report(y, rules_plus_final_estimator.predict(X)))"
   ]
  },
  {
   "cell_type": "code",
   "execution_count": 19,
   "id": "69472d71",
   "metadata": {
    "ExecuteTime": {
     "end_time": "2021-05-21T08:36:08.422981Z",
     "start_time": "2021-05-21T08:36:08.392502Z"
    }
   },
   "outputs": [
    {
     "name": "stdout",
     "output_type": "stream",
     "text": [
      "RulesClassifier\n",
      "   BinaryDecisionNode petal length (cm) < 1.9\n",
      "     DummyRule: Always predict 0\n",
      "      Default: 0 \n",
      "     CaseWhen\n",
      "        If petal length (cm) < 4.5 then predict 1\n",
      "        If petal length (cm) > 5.1 then predict 2\n",
      "        If petal width (cm) < 1.4 then predict 1\n",
      "        If petal width (cm) > 1.8 then predict 2\n",
      "final_estimator = DecisionTreeClassifier()\n",
      "\n"
     ]
    }
   ],
   "source": [
    "print(rules_plus_final_estimator.describe())"
   ]
  },
  {
   "cell_type": "code",
   "execution_count": null,
   "id": "0b5e499b",
   "metadata": {},
   "outputs": [],
   "source": []
  },
  {
   "cell_type": "code",
   "execution_count": null,
   "id": "7235f83d",
   "metadata": {},
   "outputs": [],
   "source": []
  }
 ],
 "metadata": {
  "kernelspec": {
   "display_name": "Python 3",
   "language": "python",
   "name": "python3"
  },
  "language_info": {
   "codemirror_mode": {
    "name": "ipython",
    "version": 3
   },
   "file_extension": ".py",
   "mimetype": "text/x-python",
   "name": "python",
   "nbconvert_exporter": "python",
   "pygments_lexer": "ipython3",
   "version": "3.8.5"
  },
  "toc": {
   "base_numbering": 1,
   "nav_menu": {},
   "number_sections": true,
   "sideBar": true,
   "skip_h1_title": false,
   "title_cell": "Table of Contents",
   "title_sidebar": "Contents",
   "toc_cell": false,
   "toc_position": {},
   "toc_section_display": true,
   "toc_window_display": false
  }
 },
 "nbformat": 4,
 "nbformat_minor": 5
}
