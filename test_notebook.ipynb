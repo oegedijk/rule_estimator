{
 "cells": [
  {
   "cell_type": "markdown",
   "id": "a2d30c3b",
   "metadata": {},
   "source": [
    "# Imports"
   ]
  },
  {
   "cell_type": "code",
   "execution_count": 1,
   "id": "933e19b5",
   "metadata": {
    "ExecuteTime": {
     "end_time": "2021-05-20T15:04:47.718587Z",
     "start_time": "2021-05-20T15:04:47.156041Z"
    }
   },
   "outputs": [],
   "source": [
    "from sklearn.datasets import load_iris\n",
    "from sklearn.tree import DecisionTreeClassifier\n",
    "from sklearn.metrics import classification_report"
   ]
  },
  {
   "cell_type": "code",
   "execution_count": 2,
   "id": "ce9417d5",
   "metadata": {
    "ExecuteTime": {
     "end_time": "2021-05-20T15:04:48.312186Z",
     "start_time": "2021-05-20T15:04:48.075769Z"
    }
   },
   "outputs": [],
   "source": [
    "from rule_estimator import *"
   ]
  },
  {
   "cell_type": "code",
   "execution_count": 3,
   "id": "03be2a2f",
   "metadata": {
    "ExecuteTime": {
     "end_time": "2021-05-20T15:04:48.436001Z",
     "start_time": "2021-05-20T15:04:48.409326Z"
    }
   },
   "outputs": [
    {
     "data": {
      "text/html": [
       "<div>\n",
       "<style scoped>\n",
       "    .dataframe tbody tr th:only-of-type {\n",
       "        vertical-align: middle;\n",
       "    }\n",
       "\n",
       "    .dataframe tbody tr th {\n",
       "        vertical-align: top;\n",
       "    }\n",
       "\n",
       "    .dataframe thead th {\n",
       "        text-align: right;\n",
       "    }\n",
       "</style>\n",
       "<table border=\"1\" class=\"dataframe\">\n",
       "  <thead>\n",
       "    <tr style=\"text-align: right;\">\n",
       "      <th></th>\n",
       "      <th>sepal length (cm)</th>\n",
       "      <th>sepal width (cm)</th>\n",
       "      <th>petal length (cm)</th>\n",
       "      <th>petal width (cm)</th>\n",
       "    </tr>\n",
       "  </thead>\n",
       "  <tbody>\n",
       "    <tr>\n",
       "      <th>0</th>\n",
       "      <td>5.1</td>\n",
       "      <td>3.5</td>\n",
       "      <td>1.4</td>\n",
       "      <td>0.2</td>\n",
       "    </tr>\n",
       "    <tr>\n",
       "      <th>1</th>\n",
       "      <td>4.9</td>\n",
       "      <td>3.0</td>\n",
       "      <td>1.4</td>\n",
       "      <td>0.2</td>\n",
       "    </tr>\n",
       "    <tr>\n",
       "      <th>2</th>\n",
       "      <td>4.7</td>\n",
       "      <td>3.2</td>\n",
       "      <td>1.3</td>\n",
       "      <td>0.2</td>\n",
       "    </tr>\n",
       "    <tr>\n",
       "      <th>3</th>\n",
       "      <td>4.6</td>\n",
       "      <td>3.1</td>\n",
       "      <td>1.5</td>\n",
       "      <td>0.2</td>\n",
       "    </tr>\n",
       "    <tr>\n",
       "      <th>4</th>\n",
       "      <td>5.0</td>\n",
       "      <td>3.6</td>\n",
       "      <td>1.4</td>\n",
       "      <td>0.2</td>\n",
       "    </tr>\n",
       "  </tbody>\n",
       "</table>\n",
       "</div>"
      ],
      "text/plain": [
       "   sepal length (cm)  sepal width (cm)  petal length (cm)  petal width (cm)\n",
       "0                5.1               3.5                1.4               0.2\n",
       "1                4.9               3.0                1.4               0.2\n",
       "2                4.7               3.2                1.3               0.2\n",
       "3                4.6               3.1                1.5               0.2\n",
       "4                5.0               3.6                1.4               0.2"
      ]
     },
     "execution_count": 3,
     "metadata": {},
     "output_type": "execute_result"
    }
   ],
   "source": [
    "X, y = load_iris(return_X_y=True, as_frame=True)\n",
    "X.head()"
   ]
  },
  {
   "cell_type": "code",
   "execution_count": 4,
   "id": "199476b5",
   "metadata": {
    "ExecuteTime": {
     "end_time": "2021-05-20T15:04:49.426700Z",
     "start_time": "2021-05-20T15:04:49.418352Z"
    }
   },
   "outputs": [
    {
     "data": {
      "text/plain": [
       "array(['setosa', 'versicolor', 'virginica'], dtype='<U10')"
      ]
     },
     "execution_count": 4,
     "metadata": {},
     "output_type": "execute_result"
    }
   ],
   "source": [
    "load_iris().target_names"
   ]
  },
  {
   "cell_type": "markdown",
   "id": "8eedc09b",
   "metadata": {},
   "source": [
    "# Instantiate RuleClassifier"
   ]
  },
  {
   "cell_type": "code",
   "execution_count": 5,
   "id": "99530578",
   "metadata": {
    "ExecuteTime": {
     "end_time": "2021-05-20T15:04:55.260286Z",
     "start_time": "2021-05-20T15:04:55.254830Z"
    }
   },
   "outputs": [],
   "source": [
    "model = RuleClassifier(\n",
    "    LesserThanNode(\"petal length (cm)\", 1.9, \n",
    "               if_true=DefaultRule(0), \n",
    "               if_false=CaseWhen([\n",
    "                    LesserThan(\"petal length (cm)\", 4.5, 1),\n",
    "                    GreaterThan(\"petal length (cm)\", 5.1, 2),\n",
    "                    LesserThan(\"petal width (cm)\", 1.4, 1),\n",
    "                    GreaterThan(\"petal width (cm)\", 1.8, 2),\n",
    "                ], default=1),\n",
    "    ), \n",
    "    default=2\n",
    ")"
   ]
  },
  {
   "cell_type": "code",
   "execution_count": 6,
   "id": "e866fd56",
   "metadata": {
    "ExecuteTime": {
     "end_time": "2021-05-20T15:04:55.927960Z",
     "start_time": "2021-05-20T15:04:55.913197Z"
    }
   },
   "outputs": [
    {
     "name": "stdout",
     "output_type": "stream",
     "text": [
      "              precision    recall  f1-score   support\n",
      "\n",
      "           0       1.00      0.96      0.98        50\n",
      "           1       0.83      1.00      0.91        50\n",
      "           2       1.00      0.84      0.91        50\n",
      "\n",
      "    accuracy                           0.93       150\n",
      "   macro avg       0.94      0.93      0.93       150\n",
      "weighted avg       0.94      0.93      0.93       150\n",
      "\n"
     ]
    }
   ],
   "source": [
    "print(classification_report(y, model.predict(X)))"
   ]
  },
  {
   "cell_type": "code",
   "execution_count": 7,
   "id": "023978df",
   "metadata": {
    "ExecuteTime": {
     "end_time": "2021-05-20T15:04:56.458007Z",
     "start_time": "2021-05-20T15:04:56.452623Z"
    }
   },
   "outputs": [
    {
     "name": "stdout",
     "output_type": "stream",
     "text": [
      "RulesClassifier\n",
      "   BinaryDecisionNode petal length (cm) < 1.9\n",
      "     Always predict 0\n",
      "      Default: 0 \n",
      "     CaseWhen\n",
      "        If petal length (cm) < 4.5 then predict 1\n",
      "        If petal length (cm) > 5.1 then predict 2\n",
      "        If petal width (cm) < 1.4 then predict 1\n",
      "        If petal width (cm) > 1.8 then predict 2\n",
      "      Default: 1 \n",
      " Default: 2 \n",
      "\n"
     ]
    }
   ],
   "source": [
    "print(model.describe())"
   ]
  },
  {
   "cell_type": "markdown",
   "id": "d6cd6e79",
   "metadata": {},
   "source": [
    "# Storing model to `.yaml`"
   ]
  },
  {
   "cell_type": "code",
   "execution_count": 9,
   "id": "5eba4933",
   "metadata": {
    "ExecuteTime": {
     "end_time": "2021-05-20T15:05:01.987122Z",
     "start_time": "2021-05-20T15:05:01.978984Z"
    }
   },
   "outputs": [
    {
     "name": "stdout",
     "output_type": "stream",
     "text": [
      "# RulesClassifier\n",
      "#    BinaryDecisionNode petal length (cm) < 1.9\n",
      "#      Always predict 0\n",
      "#       Default: 0 \n",
      "#      CaseWhen\n",
      "#         If petal length (cm) < 4.5 then predict 1\n",
      "#         If petal length (cm) > 5.1 then predict 2\n",
      "#         If petal width (cm) < 1.4 then predict 1\n",
      "#         If petal width (cm) > 1.8 then predict 2\n",
      "#       Default: 1 \n",
      "#  Default: 2 \n",
      "__storable__:\n",
      "  module: rule_estimator.core\n",
      "  name: RuleClassifier\n",
      "  params:\n",
      "    rules:\n",
      "      __storable__:\n",
      "        module: rule_estimator.business_rules\n",
      "        name: LesserThanNode\n",
      "        params:\n",
      "          col: petal length (cm)\n",
      "          cutoff: 1.9\n",
      "          if_true:\n",
      "            __storable__:\n",
      "              module: rule_estimator.business_rules\n",
      "              name: DefaultRule\n",
      "              params:\n",
      "                default: 0\n",
      "          if_false:\n",
      "            __storable__:\n",
      "              module: rule_estimator.business_rules\n",
      "              name: CaseWhen\n",
      "              params:\n",
      "                rules:\n",
      "                - __storable__:\n",
      "                    module: rule_estimator.business_rules\n",
      "                    name: LesserThan\n",
      "                    params:\n",
      "                      col: petal length (cm)\n",
      "                      cutoff: 4.5\n",
      "                      prediction: 1\n",
      "                      default: null\n",
      "                - __storable__:\n",
      "                    module: rule_estimator.business_rules\n",
      "                    name: GreaterThan\n",
      "                    params:\n",
      "                      col: petal length (cm)\n",
      "                      cutoff: 5.1\n",
      "                      prediction: 2\n",
      "                      default: null\n",
      "                - __storable__:\n",
      "                    module: rule_estimator.business_rules\n",
      "                    name: LesserThan\n",
      "                    params:\n",
      "                      col: petal width (cm)\n",
      "                      cutoff: 1.4\n",
      "                      prediction: 1\n",
      "                      default: null\n",
      "                - __storable__:\n",
      "                    module: rule_estimator.business_rules\n",
      "                    name: GreaterThan\n",
      "                    params:\n",
      "                      col: petal width (cm)\n",
      "                      cutoff: 1.8\n",
      "                      prediction: 2\n",
      "                      default: null\n",
      "                default: 1\n",
      "    default: 2\n",
      "    final_estimator: null\n",
      "    fit_remaining_only: true\n",
      "\n"
     ]
    }
   ],
   "source": [
    "print(model.to_yaml())"
   ]
  },
  {
   "cell_type": "code",
   "execution_count": 10,
   "id": "ce624833",
   "metadata": {
    "ExecuteTime": {
     "end_time": "2021-05-20T15:05:02.519922Z",
     "start_time": "2021-05-20T15:05:02.507128Z"
    }
   },
   "outputs": [],
   "source": [
    "model.to_yaml(\"iris_rules.yaml\")"
   ]
  },
  {
   "cell_type": "code",
   "execution_count": 11,
   "id": "5e619cbe",
   "metadata": {
    "ExecuteTime": {
     "end_time": "2021-05-20T15:05:03.279040Z",
     "start_time": "2021-05-20T15:05:03.260203Z"
    }
   },
   "outputs": [],
   "source": [
    "loaded_model = RuleClassifier.from_yaml(\"iris_rules.yaml\")"
   ]
  },
  {
   "cell_type": "code",
   "execution_count": 12,
   "id": "effb206c",
   "metadata": {
    "ExecuteTime": {
     "end_time": "2021-05-20T15:05:03.631697Z",
     "start_time": "2021-05-20T15:05:03.624094Z"
    }
   },
   "outputs": [
    {
     "data": {
      "text/plain": [
       "array([0., 0., 0., 0., 0., 0., 0., 0., 0., 0., 0., 0., 0., 0., 0., 0., 0.,\n",
       "       0., 0., 0., 0., 0., 0., 0., 1., 0., 0., 0., 0., 0., 0., 0., 0., 0.,\n",
       "       0., 0., 0., 0., 0., 0., 0., 0., 0., 0., 1., 0., 0., 0., 0., 0., 1.,\n",
       "       1., 1., 1., 1., 1., 1., 1., 1., 1., 1., 1., 1., 1., 1., 1., 1., 1.,\n",
       "       1., 1., 1., 1., 1., 1., 1., 1., 1., 1., 1., 1., 1., 1., 1., 1., 1.,\n",
       "       1., 1., 1., 1., 1., 1., 1., 1., 1., 1., 1., 1., 1., 1., 1., 2., 2.,\n",
       "       2., 2., 2., 2., 1., 2., 2., 2., 2., 2., 2., 2., 2., 2., 2., 2., 2.,\n",
       "       1., 2., 2., 2., 1., 2., 2., 1., 1., 2., 2., 2., 2., 2., 1., 2., 2.,\n",
       "       2., 2., 1., 2., 2., 2., 2., 2., 2., 2., 2., 2., 2., 1.])"
      ]
     },
     "execution_count": 12,
     "metadata": {},
     "output_type": "execute_result"
    }
   ],
   "source": [
    "loaded_model.predict(X)"
   ]
  },
  {
   "cell_type": "markdown",
   "id": "a43a2b93",
   "metadata": {},
   "source": [
    "# Including a `final_estimator`"
   ]
  },
  {
   "cell_type": "code",
   "execution_count": 13,
   "id": "e64b839a",
   "metadata": {
    "ExecuteTime": {
     "end_time": "2021-05-20T15:05:07.614249Z",
     "start_time": "2021-05-20T15:05:07.609416Z"
    }
   },
   "outputs": [],
   "source": [
    "model2 = RuleClassifier(\n",
    "    LesserThanNode(\"petal length (cm)\", 1.9, \n",
    "               if_true=DefaultRule(0), \n",
    "               if_false=CaseWhen([\n",
    "                    LesserThan(\"petal length (cm)\", 4.5, 1),\n",
    "                    GreaterThan(\"petal length (cm)\", 5.1, 2),\n",
    "                    LesserThan(\"petal width (cm)\", 1.4, 1),\n",
    "                    GreaterThan(\"petal width (cm)\", 1.8, 2),\n",
    "                ]),\n",
    "    ), \n",
    "    final_estimator=DecisionTreeClassifier()\n",
    ")"
   ]
  },
  {
   "cell_type": "code",
   "execution_count": 14,
   "id": "437e6913",
   "metadata": {
    "ExecuteTime": {
     "end_time": "2021-05-20T15:05:08.053266Z",
     "start_time": "2021-05-20T15:05:08.036648Z"
    }
   },
   "outputs": [
    {
     "name": "stdout",
     "output_type": "stream",
     "text": [
      "Fitting final_estimator...\n",
      "              precision    recall  f1-score   support\n",
      "\n",
      "           0       1.00      0.96      0.98        50\n",
      "           1       0.96      1.00      0.98        50\n",
      "           2       1.00      1.00      1.00        50\n",
      "\n",
      "    accuracy                           0.99       150\n",
      "   macro avg       0.99      0.99      0.99       150\n",
      "weighted avg       0.99      0.99      0.99       150\n",
      "\n"
     ]
    }
   ],
   "source": [
    "model2.fit(X, y)\n",
    "print(classification_report(y, model2.predict(X)))"
   ]
  },
  {
   "cell_type": "code",
   "execution_count": 15,
   "id": "77b6b121",
   "metadata": {
    "ExecuteTime": {
     "end_time": "2021-05-20T15:05:08.780042Z",
     "start_time": "2021-05-20T15:05:08.771332Z"
    }
   },
   "outputs": [
    {
     "name": "stdout",
     "output_type": "stream",
     "text": [
      "RulesClassifier\n",
      "   BinaryDecisionNode petal length (cm) < 1.9\n",
      "     Always predict 0\n",
      "      Default: 0 \n",
      "     CaseWhen\n",
      "        If petal length (cm) < 4.5 then predict 1\n",
      "        If petal length (cm) > 5.1 then predict 2\n",
      "        If petal width (cm) < 1.4 then predict 1\n",
      "        If petal width (cm) > 1.8 then predict 2\n",
      "final_estimator = DecisionTreeClassifier()\n",
      "\n"
     ]
    }
   ],
   "source": [
    "print(model2.describe())"
   ]
  },
  {
   "cell_type": "code",
   "execution_count": null,
   "id": "7bab2cb0",
   "metadata": {},
   "outputs": [],
   "source": []
  },
  {
   "cell_type": "code",
   "execution_count": null,
   "id": "34f22dca",
   "metadata": {},
   "outputs": [],
   "source": []
  }
 ],
 "metadata": {
  "kernelspec": {
   "display_name": "Python 3",
   "language": "python",
   "name": "python3"
  },
  "language_info": {
   "codemirror_mode": {
    "name": "ipython",
    "version": 3
   },
   "file_extension": ".py",
   "mimetype": "text/x-python",
   "name": "python",
   "nbconvert_exporter": "python",
   "pygments_lexer": "ipython3",
   "version": "3.8.5"
  },
  "toc": {
   "base_numbering": 1,
   "nav_menu": {},
   "number_sections": true,
   "sideBar": true,
   "skip_h1_title": false,
   "title_cell": "Table of Contents",
   "title_sidebar": "Contents",
   "toc_cell": false,
   "toc_position": {},
   "toc_section_display": true,
   "toc_window_display": false
  }
 },
 "nbformat": 4,
 "nbformat_minor": 5
}
